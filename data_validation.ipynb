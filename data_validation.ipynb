{
 "cells": [
  {
   "cell_type": "code",
   "execution_count": 1,
   "metadata": {},
   "outputs": [
    {
     "name": "stdout",
     "output_type": "stream",
     "text": [
      "Hello\n"
     ]
    }
   ],
   "source": [
    "print(\"Hello\")"
   ]
  },
  {
   "cell_type": "code",
   "execution_count": 2,
   "metadata": {},
   "outputs": [
    {
     "data": {
      "text/html": [
       "<div><style>\n",
       ".dataframe > thead > tr,\n",
       ".dataframe > tbody > tr {\n",
       "  text-align: right;\n",
       "  white-space: pre-wrap;\n",
       "}\n",
       "</style>\n",
       "<small>shape: (5, 3)</small><table border=\"1\" class=\"dataframe\"><thead><tr><th>hospital_id</th><th>hospital_name</th><th>hospital_state</th></tr><tr><td>i64</td><td>str</td><td>str</td></tr></thead><tbody><tr><td>0</td><td>&quot;Wallace-Hamilton&quot;</td><td>&quot;CO&quot;</td></tr><tr><td>1</td><td>&quot;Burke, Griffin and Cooper&quot;</td><td>&quot;NC&quot;</td></tr><tr><td>2</td><td>&quot;Walton LLC&quot;</td><td>&quot;FL&quot;</td></tr><tr><td>3</td><td>&quot;Garcia Ltd&quot;</td><td>&quot;NC&quot;</td></tr><tr><td>4</td><td>&quot;Jones, Brown and Murray&quot;</td><td>&quot;NC&quot;</td></tr></tbody></table></div>"
      ],
      "text/plain": [
       "shape: (5, 3)\n",
       "┌─────────────┬───────────────────────────┬────────────────┐\n",
       "│ hospital_id ┆ hospital_name             ┆ hospital_state │\n",
       "│ ---         ┆ ---                       ┆ ---            │\n",
       "│ i64         ┆ str                       ┆ str            │\n",
       "╞═════════════╪═══════════════════════════╪════════════════╡\n",
       "│ 0           ┆ Wallace-Hamilton          ┆ CO             │\n",
       "│ 1           ┆ Burke, Griffin and Cooper ┆ NC             │\n",
       "│ 2           ┆ Walton LLC                ┆ FL             │\n",
       "│ 3           ┆ Garcia Ltd                ┆ NC             │\n",
       "│ 4           ┆ Jones, Brown and Murray   ┆ NC             │\n",
       "└─────────────┴───────────────────────────┴────────────────┘"
      ]
     },
     "execution_count": 2,
     "metadata": {},
     "output_type": "execute_result"
    }
   ],
   "source": [
    "import polars as pl\n",
    "\n",
    "hospital_path = \"./data/hospitals.csv\"\n",
    "\n",
    "df_hosp = pl.read_csv(hospital_path)\n",
    "\n",
    "df_hosp.head()"
   ]
  },
  {
   "cell_type": "code",
   "execution_count": 1,
   "metadata": {},
   "outputs": [
    {
     "data": {
      "text/plain": [
       "True"
      ]
     },
     "execution_count": 1,
     "metadata": {},
     "output_type": "execute_result"
    }
   ],
   "source": [
    "from dotenv import load_dotenv\n",
    "load_dotenv()"
   ]
  },
  {
   "cell_type": "code",
   "execution_count": 8,
   "metadata": {},
   "outputs": [
    {
     "name": "stdout",
     "output_type": "stream",
     "text": [
      "HOSPITAL_AGENT_MODEL :  gpt-3.5-turbo-1106\n"
     ]
    },
    {
     "data": {
      "text/plain": [
       "('[\"physician_name\", \"patient_name\", \"text\", \"hospital_name\"]', None, None)"
      ]
     },
     "execution_count": 8,
     "metadata": {},
     "output_type": "execute_result"
    }
   ],
   "source": [
    "import os\n",
    "HOSPITAL_AGENT_MODEL = os.getenv('HOSPITAL_AGENT_MODEL')\n",
    "NEO4J_CYPHER_EXAMPLES_TEXT_NODE_PROPERTY = os.getenv('NEO4J_CYPHER_EXAMPLES_TEXT_NODE_PROPERTY')\n",
    "NEO4J_CYPHER_EXAMPLES_METADATA_NAME = os.getenv('NEO4J_CYPHER_EXAMPLES_METADATA_NAME')\n",
    "NEO4J_CYPHER_EXAMPLES_NODE_NAME = os.getenv('NEO4J_CYPHER_EXAMPLES_NODE_NAME')\n",
    "print(\"HOSPITAL_AGENT_MODEL : \", HOSPITAL_AGENT_MODEL)\n",
    "NEO4J_CYPHER_EXAMPLES_TEXT_NODE_PROPERTY, NEO4J_CYPHER_EXAMPLES_METADATA_NAME, NEO4J_CYPHER_EXAMPLES_NODE_NAME"
   ]
  },
  {
   "cell_type": "code",
   "execution_count": 7,
   "metadata": {},
   "outputs": [
    {
     "data": {
      "text/plain": [
       "'f:\\\\learning\\\\LLM_neo4j_rag_app'"
      ]
     },
     "execution_count": 7,
     "metadata": {},
     "output_type": "execute_result"
    }
   ],
   "source": [
    "pwd"
   ]
  },
  {
   "cell_type": "code",
   "execution_count": null,
   "metadata": {},
   "outputs": [],
   "source": []
  }
 ],
 "metadata": {
  "kernelspec": {
   "display_name": "venv1",
   "language": "python",
   "name": "python3"
  },
  "language_info": {
   "codemirror_mode": {
    "name": "ipython",
    "version": 3
   },
   "file_extension": ".py",
   "mimetype": "text/x-python",
   "name": "python",
   "nbconvert_exporter": "python",
   "pygments_lexer": "ipython3",
   "version": "3.10.11"
  }
 },
 "nbformat": 4,
 "nbformat_minor": 2
}
